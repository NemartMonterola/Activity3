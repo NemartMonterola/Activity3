{
 "cells": [
  {
   "cell_type": "code",
   "execution_count": null,
   "metadata": {},
   "outputs": [],
   "source": [
    "items = [{'color':'red', 'size':10}, {'color':'blue', 'size':3},\\\n",
    "         {'color':'green', 'size':15}, {'color':'yellow', 'size':6}\n",
    "         for items in items:\n",
    "         print(items)"
   ]
  }
 ],
 "metadata": {
  "kernelspec": {
   "display_name": "Python 3.10.7 ('virt': venv)",
   "language": "python",
   "name": "python3"
  },
  "language_info": {
   "codemirror_mode": {
    "name": "ipython",
    "version": 3
   },
   "file_extension": ".py",
   "mimetype": "text/x-python",
   "name": "python",
   "nbconvert_exporter": "python",
   "pygments_lexer": "ipython3",
   "version": "3.10.7"
  },
  "orig_nbformat": 4,
  "vscode": {
   "interpreter": {
    "hash": "f615a242da9d8ec2db957944f226e95f1972ed681375cd7f7e3bb34e4211a4fc"
   }
  }
 },
 "nbformat": 4,
 "nbformat_minor": 2
}
